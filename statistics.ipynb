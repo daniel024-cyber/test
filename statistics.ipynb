{
 "cells": [
  {
   "cell_type": "markdown",
   "id": "21db0462",
   "metadata": {},
   "source": [
    "# variance of a set value"
   ]
  },
  {
   "cell_type": "code",
   "execution_count": 11,
   "id": "80b17987",
   "metadata": {},
   "outputs": [],
   "source": [
    "def mean(data):\n",
    "    sum_of_numbers=0 #initializing\n",
    "    for x in data:\n",
    "        sum_of_numbers=sum_of_numbers+x\n",
    "    return sum_of_numbers/len(data)"
   ]
  },
  {
   "cell_type": "code",
   "execution_count": 12,
   "id": "ca8d038c",
   "metadata": {},
   "outputs": [
    {
     "data": {
      "text/plain": [
       "5.0"
      ]
     },
     "execution_count": 12,
     "metadata": {},
     "output_type": "execute_result"
    }
   ],
   "source": [
    "mean([4,6,4,6])"
   ]
  },
  {
   "cell_type": "code",
   "execution_count": 9,
   "id": "116789db",
   "metadata": {},
   "outputs": [],
   "source": [
    "def mean(data):\n",
    "    sum_of_numbers=0 #initializing\n",
    "    for x in data:\n",
    "        sum_of_numbers +=x\n",
    "    return sum_of_numbers/len(data)"
   ]
  },
  {
   "cell_type": "code",
   "execution_count": 10,
   "id": "7f23a31e",
   "metadata": {},
   "outputs": [
    {
     "data": {
      "text/plain": [
       "5.0"
      ]
     },
     "execution_count": 10,
     "metadata": {},
     "output_type": "execute_result"
    }
   ],
   "source": [
    "mean([4,6,4,6])"
   ]
  },
  {
   "cell_type": "code",
   "execution_count": 13,
   "id": "f0216e0a",
   "metadata": {},
   "outputs": [],
   "source": [
    "def meanmod(data):\n",
    "    return sum(data)/len(data)"
   ]
  },
  {
   "cell_type": "code",
   "execution_count": 15,
   "id": "b4754ecc",
   "metadata": {},
   "outputs": [
    {
     "data": {
      "text/plain": [
       "5.0"
      ]
     },
     "execution_count": 15,
     "metadata": {},
     "output_type": "execute_result"
    }
   ],
   "source": [
    "meanmod([4,6,4,6])"
   ]
  },
  {
   "cell_type": "code",
   "execution_count": 18,
   "id": "1d773f70",
   "metadata": {},
   "outputs": [],
   "source": [
    "def std(data):#variance\n",
    "        x_bar=mean(data)\n",
    "        sum_of_diff=0 \n",
    "        for x in data:\n",
    "            sum_of_diff +=(x-x_bar)**2\n",
    "        return sum_of_diff/len(data)"
   ]
  },
  {
   "cell_type": "code",
   "execution_count": 20,
   "id": "7272c2ba",
   "metadata": {},
   "outputs": [
    {
     "data": {
      "text/plain": [
       "2.0"
      ]
     },
     "execution_count": 20,
     "metadata": {},
     "output_type": "execute_result"
    }
   ],
   "source": [
    "std([3,4,5,6,7])"
   ]
  },
  {
   "cell_type": "code",
   "execution_count": 24,
   "id": "6cac2845",
   "metadata": {},
   "outputs": [],
   "source": [
    "import math\n",
    "def std(data):#standard deviation\n",
    "        x_bar=mean(data)\n",
    "        sum_of_diff=0 \n",
    "        for x in data:\n",
    "            sum_of_diff +=(x-x_bar)**2\n",
    "        return round(math.sqrt(sum_of_diff/len(data)),2)"
   ]
  },
  {
   "cell_type": "code",
   "execution_count": 25,
   "id": "e6668bb6",
   "metadata": {},
   "outputs": [
    {
     "data": {
      "text/plain": [
       "1.41"
      ]
     },
     "execution_count": 25,
     "metadata": {},
     "output_type": "execute_result"
    }
   ],
   "source": [
    "std([3,4,5,6,7])"
   ]
  },
  {
   "cell_type": "code",
   "execution_count": 26,
   "id": "2819f484",
   "metadata": {},
   "outputs": [],
   "source": [
    "def cv(data):\n",
    "    return std(data)/mean(data)*100"
   ]
  },
  {
   "cell_type": "code",
   "execution_count": 27,
   "id": "61f1228d",
   "metadata": {},
   "outputs": [
    {
     "data": {
      "text/plain": [
       "37.8125"
      ]
     },
     "execution_count": 27,
     "metadata": {},
     "output_type": "execute_result"
    }
   ],
   "source": [
    "cv([2,6,8,9,7])"
   ]
  },
  {
   "cell_type": "code",
   "execution_count": 4,
   "id": "918adcc2",
   "metadata": {},
   "outputs": [],
   "source": [
    "def mean(data):\n",
    "    sum_of_data=0\n",
    "    for i in data:\n",
    "        sum_of_data +=i\n",
    "    return sum_of_data/len(data)\n",
    " "
   ]
  },
  {
   "cell_type": "code",
   "execution_count": 5,
   "id": "20226a1e",
   "metadata": {},
   "outputs": [
    {
     "data": {
      "text/plain": [
       "3.5"
      ]
     },
     "execution_count": 5,
     "metadata": {},
     "output_type": "execute_result"
    }
   ],
   "source": [
    "mean([1,2,3,4,5,6])"
   ]
  },
  {
   "cell_type": "code",
   "execution_count": 10,
   "id": "2327186c",
   "metadata": {},
   "outputs": [],
   "source": [
    "import math\n",
    "def meandev(data):\n",
    "    Xm=mean(data)           #find range\n",
    "    sum_of_data=0\n",
    "    for i in data:\n",
    "        sum_of_data +=(i-Xm)\n",
    "    return math.sqrt(sum_of_data/len(data))"
   ]
  },
  {
   "cell_type": "code",
   "execution_count": 12,
   "id": "8b2c6c29",
   "metadata": {},
   "outputs": [
    {
     "data": {
      "text/plain": [
       "1.7206378853011898e-08"
      ]
     },
     "execution_count": 12,
     "metadata": {},
     "output_type": "execute_result"
    }
   ],
   "source": [
    "meandev([12,2,3,4,5,6])"
   ]
  },
  {
   "cell_type": "markdown",
   "id": "3c820bb0",
   "metadata": {},
   "source": [
    "# corrolation"
   ]
  },
  {
   "cell_type": "code",
   "execution_count": 64,
   "id": "a8f66396",
   "metadata": {},
   "outputs": [],
   "source": [
    "def corr_num(x_data,y_data):\n",
    "    sum_x=(sum(x_data))\n",
    "    sum_y=(sum(y_data))\n",
    "    n=len(x_data)\n",
    "    sum_xy=0\n",
    "    for i in range(n):\n",
    "        sum_xy += x_data[i]*y_data[i]\n",
    "    return (n*sum_xy-sum_x*sum_y)"
   ]
  },
  {
   "cell_type": "code",
   "execution_count": 65,
   "id": "47e73c5e",
   "metadata": {},
   "outputs": [
    {
     "data": {
      "text/plain": [
       "3"
      ]
     },
     "execution_count": 65,
     "metadata": {},
     "output_type": "execute_result"
    }
   ],
   "source": [
    "corr_num([4,3,1],[2,5,2])"
   ]
  },
  {
   "cell_type": "code",
   "execution_count": 51,
   "id": "5501fb5c",
   "metadata": {},
   "outputs": [],
   "source": [
    "def corr_den(x_data,y_data):\n",
    "    sum_x=sum(x_data)\n",
    "    sum_y=sum(y_data)\n",
    "    n=len(x_data)\n",
    "    sum_x_sq=0\n",
    "    sum_y_sq=0\n",
    "    for i in range(n):\n",
    "        sum_x_sq=sum_x_sq+x_data[i]**2\n",
    "        sum_y_sq=sum_y_sq+y_data[i]**2\n",
    "    return ((n*sum_x_sq-sum_x**2)*(n*sum_y_sq-sum_y**2))**0.5"
   ]
  },
  {
   "cell_type": "code",
   "execution_count": 52,
   "id": "b5c4ccce",
   "metadata": {},
   "outputs": [
    {
     "data": {
      "text/plain": [
       "15.874507866387544"
      ]
     },
     "execution_count": 52,
     "metadata": {},
     "output_type": "execute_result"
    }
   ],
   "source": [
    "corr_den([4,3,1],[2,5,2])"
   ]
  },
  {
   "cell_type": "code",
   "execution_count": 69,
   "id": "3992e9df",
   "metadata": {},
   "outputs": [
    {
     "data": {
      "text/plain": [
       "0.1889822365046136"
      ]
     },
     "execution_count": 69,
     "metadata": {},
     "output_type": "execute_result"
    }
   ],
   "source": [
    "corr_num([4,3,1],[2,5,2])/corr_den([4,3,1],[2,5,2])"
   ]
  },
  {
   "cell_type": "code",
   "execution_count": 1,
   "id": "bf5c65bb",
   "metadata": {},
   "outputs": [],
   "source": [
    "a=[1,2,4]"
   ]
  },
  {
   "cell_type": "code",
   "execution_count": 2,
   "id": "24dbf639",
   "metadata": {},
   "outputs": [],
   "source": [
    "import math"
   ]
  },
  {
   "cell_type": "code",
   "execution_count": 3,
   "id": "31143ffd",
   "metadata": {},
   "outputs": [
    {
     "data": {
      "text/plain": [
       "0.8414709848078965"
      ]
     },
     "execution_count": 3,
     "metadata": {},
     "output_type": "execute_result"
    }
   ],
   "source": [
    "math.sin(1)"
   ]
  },
  {
   "cell_type": "code",
   "execution_count": 4,
   "id": "8e0e264e",
   "metadata": {},
   "outputs": [
    {
     "data": {
      "text/plain": [
       "0.9092974268256817"
      ]
     },
     "execution_count": 4,
     "metadata": {},
     "output_type": "execute_result"
    }
   ],
   "source": [
    "math.sin(2)"
   ]
  },
  {
   "cell_type": "code",
   "execution_count": null,
   "id": "6a732d1a",
   "metadata": {},
   "outputs": [],
   "source": []
  }
 ],
 "metadata": {
  "kernelspec": {
   "display_name": "Python 3 (ipykernel)",
   "language": "python",
   "name": "python3"
  },
  "language_info": {
   "codemirror_mode": {
    "name": "ipython",
    "version": 3
   },
   "file_extension": ".py",
   "mimetype": "text/x-python",
   "name": "python",
   "nbconvert_exporter": "python",
   "pygments_lexer": "ipython3",
   "version": "3.9.7"
  }
 },
 "nbformat": 4,
 "nbformat_minor": 5
}
