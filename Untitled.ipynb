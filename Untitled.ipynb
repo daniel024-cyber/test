{
 "cells": [
  {
   "cell_type": "markdown",
   "id": "c83ac249",
   "metadata": {},
   "source": [
    "# while loop"
   ]
  },
  {
   "cell_type": "code",
   "execution_count": 1,
   "id": "db459bfe",
   "metadata": {},
   "outputs": [
    {
     "name": "stdout",
     "output_type": "stream",
     "text": [
      "it is true\n",
      "it is true\n",
      "it is true\n"
     ]
    }
   ],
   "source": [
    "x=12\n",
    "while x>2:\n",
    "    print(\"it is true\")\n",
    "    x=x/2"
   ]
  },
  {
   "cell_type": "code",
   "execution_count": 2,
   "id": "7e571f05",
   "metadata": {},
   "outputs": [
    {
     "name": "stdout",
     "output_type": "stream",
     "text": [
      "enter a number: 12\n",
      "enter a number: 23\n",
      "enter a number: 64\n",
      "enter a number: 98\n",
      "enter a number: 18\n",
      "enter a number: -12\n",
      "[12.0, 23.0, 64.0, 98.0, 18.0, -12.0]\n"
     ]
    }
   ],
   "source": [
    "list_of_number=[]\n",
    "number=20\n",
    "while number >=0:\n",
    "    number = float(input(\"enter a number: \"))\n",
    "    list_of_number.append(number)\n",
    "print(list_of_number)"
   ]
  },
  {
   "cell_type": "code",
   "execution_count": 5,
   "id": "68987b04",
   "metadata": {},
   "outputs": [
    {
     "name": "stdout",
     "output_type": "stream",
     "text": [
      "enter a number: 12\n",
      "enter a number: 65\n",
      "enter a number: 98\n",
      "enter a number: 100\n",
      "enter a number: -69\n",
      "[12.0, 65.0, 98.0, 100.0]\n"
     ]
    }
   ],
   "source": [
    "list_of_number=[]\n",
    "number=20\n",
    "while number >=0:\n",
    "    number = float(input(\"enter a number: \"))\n",
    "    list_of_number.append(number)\n",
    "list_of_number.pop()\n",
    "print(list_of_number)"
   ]
  },
  {
   "cell_type": "code",
   "execution_count": 6,
   "id": "e1602c64",
   "metadata": {},
   "outputs": [
    {
     "name": "stdout",
     "output_type": "stream",
     "text": [
      "enter a number: 23\n",
      "enter a number: 36\n",
      "enter a number: 64\n",
      "enter a number: -1\n",
      "[23.0, 36.0, 64.0]\n"
     ]
    }
   ],
   "source": [
    "list_of_number=[]\n",
    "number=20\n",
    "while True:\n",
    "    number = float(input(\"enter a number: \"))\n",
    "    if number <0:\n",
    "        break\n",
    "    else:\n",
    "        list_of_number.append(number)\n",
    "print(list_of_number)"
   ]
  },
  {
   "cell_type": "code",
   "execution_count": 10,
   "id": "84798b39",
   "metadata": {},
   "outputs": [
    {
     "name": "stdout",
     "output_type": "stream",
     "text": [
      "enter your name: daniel\n",
      "your age: 35\n",
      "enter your name: regi\n",
      "your age: 55\n",
      "enter your name: claire\n",
      "your age: 15\n",
      "enter your name: ehisl\n",
      "your age: 26\n",
      "enter your name: danny boy\n",
      "your age: 13\n",
      "enter your name: \n",
      "[['daniel', 200], ['regi', 250], ['claire', 30], ['ehisl', 200], ['danny boy', 30]]\n"
     ]
    }
   ],
   "source": [
    "fee=[]\n",
    "while True:\n",
    "    name=input(\"enter your name: \")\n",
    "    if name.strip()==\"\":\n",
    "        break\n",
    "    age=int(input(\"your age: \"))\n",
    "    if age>=0 and age<=16:\n",
    "        fee.append([name,30])\n",
    "    elif age>=17 and age<=35:\n",
    "        fee.append([name,200])\n",
    "    elif age>=26 and age<=55:\n",
    "        fee.append([name,250])\n",
    "    else:\n",
    "        fee.append([name,free])\n",
    "print(fee)"
   ]
  },
  {
   "cell_type": "markdown",
   "id": "4e355ff6",
   "metadata": {},
   "source": [
    "# funtion"
   ]
  },
  {
   "cell_type": "code",
   "execution_count": 20,
   "id": "0fdf83de",
   "metadata": {},
   "outputs": [],
   "source": [
    "import random\n",
    "def acc_number(start_char):\n",
    "    acc_number=start_char\n",
    "    for i in range(7):\n",
    "        d=random.randint(0,9)\n",
    "        acc_number= acc_number+str(d)\n",
    "    return acc_number"
   ]
  },
  {
   "cell_type": "code",
   "execution_count": 21,
   "id": "a5b1079e",
   "metadata": {},
   "outputs": [
    {
     "data": {
      "text/plain": [
       "'0610491342'"
      ]
     },
     "execution_count": 21,
     "metadata": {},
     "output_type": "execute_result"
    }
   ],
   "source": [
    "acc_number(\"061\")"
   ]
  },
  {
   "cell_type": "code",
   "execution_count": 1,
   "id": "6f5f6e6f",
   "metadata": {},
   "outputs": [],
   "source": [
    "def gen_pass(lenght):\n",
    "    password=\"\"\n",
    "    for i in range(length):\n",
    "        d=random.choice([\"1\",\"2\",\":\",\",\",\"a\",\"b\",])\n",
    "        password= password+d\n",
    "    return password"
   ]
  },
  {
   "cell_type": "code",
   "execution_count": 2,
   "id": "b2979836",
   "metadata": {},
   "outputs": [
    {
     "ename": "NameError",
     "evalue": "name 'length' is not defined",
     "output_type": "error",
     "traceback": [
      "\u001b[1;31m---------------------------------------------------------------------------\u001b[0m",
      "\u001b[1;31mNameError\u001b[0m                                 Traceback (most recent call last)",
      "\u001b[1;32m~\\AppData\\Local\\Temp/ipykernel_2300/3499846731.py\u001b[0m in \u001b[0;36m<module>\u001b[1;34m\u001b[0m\n\u001b[1;32m----> 1\u001b[1;33m \u001b[0mgen_pass\u001b[0m\u001b[1;33m(\u001b[0m\u001b[1;36m4\u001b[0m\u001b[1;33m)\u001b[0m\u001b[1;33m\u001b[0m\u001b[1;33m\u001b[0m\u001b[0m\n\u001b[0m",
      "\u001b[1;32m~\\AppData\\Local\\Temp/ipykernel_2300/2051465232.py\u001b[0m in \u001b[0;36mgen_pass\u001b[1;34m(lenght)\u001b[0m\n\u001b[0;32m      1\u001b[0m \u001b[1;32mdef\u001b[0m \u001b[0mgen_pass\u001b[0m\u001b[1;33m(\u001b[0m\u001b[0mlenght\u001b[0m\u001b[1;33m)\u001b[0m\u001b[1;33m:\u001b[0m\u001b[1;33m\u001b[0m\u001b[1;33m\u001b[0m\u001b[0m\n\u001b[0;32m      2\u001b[0m     \u001b[0mpassword\u001b[0m\u001b[1;33m=\u001b[0m\u001b[1;34m\"\"\u001b[0m\u001b[1;33m\u001b[0m\u001b[1;33m\u001b[0m\u001b[0m\n\u001b[1;32m----> 3\u001b[1;33m     \u001b[1;32mfor\u001b[0m \u001b[0mi\u001b[0m \u001b[1;32min\u001b[0m \u001b[0mrange\u001b[0m\u001b[1;33m(\u001b[0m\u001b[0mlength\u001b[0m\u001b[1;33m)\u001b[0m\u001b[1;33m:\u001b[0m\u001b[1;33m\u001b[0m\u001b[1;33m\u001b[0m\u001b[0m\n\u001b[0m\u001b[0;32m      4\u001b[0m         \u001b[0md\u001b[0m\u001b[1;33m=\u001b[0m\u001b[0mrandom\u001b[0m\u001b[1;33m.\u001b[0m\u001b[0mchoice\u001b[0m\u001b[1;33m(\u001b[0m\u001b[1;33m[\u001b[0m\u001b[1;34m\"1\"\u001b[0m\u001b[1;33m,\u001b[0m\u001b[1;34m\"2\"\u001b[0m\u001b[1;33m,\u001b[0m\u001b[1;34m\":\"\u001b[0m\u001b[1;33m,\u001b[0m\u001b[1;34m\",\"\u001b[0m\u001b[1;33m,\u001b[0m\u001b[1;34m\"a\"\u001b[0m\u001b[1;33m,\u001b[0m\u001b[1;34m\"b\"\u001b[0m\u001b[1;33m,\u001b[0m\u001b[1;33m]\u001b[0m\u001b[1;33m)\u001b[0m\u001b[1;33m\u001b[0m\u001b[1;33m\u001b[0m\u001b[0m\n\u001b[0;32m      5\u001b[0m         \u001b[0mpassword\u001b[0m\u001b[1;33m=\u001b[0m \u001b[0mpassword\u001b[0m\u001b[1;33m+\u001b[0m\u001b[0md\u001b[0m\u001b[1;33m\u001b[0m\u001b[1;33m\u001b[0m\u001b[0m\n",
      "\u001b[1;31mNameError\u001b[0m: name 'length' is not defined"
     ]
    }
   ],
   "source": [
    "gen_pass(4)\n"
   ]
  },
  {
   "cell_type": "code",
   "execution_count": null,
   "id": "454c2f62",
   "metadata": {},
   "outputs": [],
   "source": []
  }
 ],
 "metadata": {
  "kernelspec": {
   "display_name": "Python 3 (ipykernel)",
   "language": "python",
   "name": "python3"
  },
  "language_info": {
   "codemirror_mode": {
    "name": "ipython",
    "version": 3
   },
   "file_extension": ".py",
   "mimetype": "text/x-python",
   "name": "python",
   "nbconvert_exporter": "python",
   "pygments_lexer": "ipython3",
   "version": "3.9.7"
  }
 },
 "nbformat": 4,
 "nbformat_minor": 5
}
