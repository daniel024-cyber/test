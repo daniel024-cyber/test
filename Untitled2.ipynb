{
 "cells": [
  {
   "cell_type": "code",
   "execution_count": 1,
   "id": "7669bba0",
   "metadata": {},
   "outputs": [],
   "source": [
    "def salaryinc(n):\n",
    "    for i in range(n):\n",
    "        salary=float(input(\"the salary amount: \"))\n",
    "        if salary>=10000:\n",
    "            return salary*0.1+salary\n",
    "        else:\n",
    "            return 0.1*salary\n",
    "    "
   ]
  },
  {
   "cell_type": "code",
   "execution_count": 3,
   "id": "4df60b51",
   "metadata": {},
   "outputs": [
    {
     "name": "stdout",
     "output_type": "stream",
     "text": [
      "the salary amount: 5000\n"
     ]
    },
    {
     "data": {
      "text/plain": [
       "500.0"
      ]
     },
     "execution_count": 3,
     "metadata": {},
     "output_type": "execute_result"
    }
   ],
   "source": [
    "salaryinc(2)"
   ]
  },
  {
   "cell_type": "code",
   "execution_count": 8,
   "id": "d963ef54",
   "metadata": {},
   "outputs": [],
   "source": [
    "z=[5,6,4,8,9,7]"
   ]
  },
  {
   "cell_type": "code",
   "execution_count": 9,
   "id": "957b81d6",
   "metadata": {},
   "outputs": [
    {
     "data": {
      "text/plain": [
       "6"
      ]
     },
     "execution_count": 9,
     "metadata": {},
     "output_type": "execute_result"
    }
   ],
   "source": [
    "len(z)"
   ]
  },
  {
   "cell_type": "code",
   "execution_count": 10,
   "id": "1ba90098",
   "metadata": {},
   "outputs": [],
   "source": [
    "z.append(100)"
   ]
  },
  {
   "cell_type": "code",
   "execution_count": 11,
   "id": "60a9a39c",
   "metadata": {},
   "outputs": [
    {
     "data": {
      "text/plain": [
       "10"
      ]
     },
     "execution_count": 11,
     "metadata": {},
     "output_type": "execute_result"
    }
   ],
   "source": [
    "5+5"
   ]
  },
  {
   "cell_type": "code",
   "execution_count": 12,
   "id": "2db2fcb2",
   "metadata": {},
   "outputs": [],
   "source": [
    "z.insert(0,2)"
   ]
  },
  {
   "cell_type": "code",
   "execution_count": 15,
   "id": "dd47c0ff",
   "metadata": {},
   "outputs": [],
   "source": [
    "def median(a,b,c):\n",
    "    numbers=[a,b,c]\n",
    "    numbers.sort()\n",
    "    print(numbers[1])"
   ]
  },
  {
   "cell_type": "code",
   "execution_count": 17,
   "id": "fd5dac77",
   "metadata": {},
   "outputs": [
    {
     "name": "stdout",
     "output_type": "stream",
     "text": [
      "4\n"
     ]
    }
   ],
   "source": [
    "median(1,6,4)"
   ]
  },
  {
   "cell_type": "code",
   "execution_count": 5,
   "id": "e6a949ff",
   "metadata": {},
   "outputs": [
    {
     "name": "stdout",
     "output_type": "stream",
     "text": [
      "enter the sentence: danny is fuckking blessed and is getting better\n",
      "the sentence is of 8 number of word\n"
     ]
    }
   ],
   "source": [
    "sentence=(input(\"enter the sentence: \"))\n",
    "sentence_stripped=sentence.strip()\n",
    "number_of_word=sentence_stripped.count(\" \")+1\n",
    "print(f\"the sentence is of {number_of_word} number of word\")"
   ]
  },
  {
   "cell_type": "code",
   "execution_count": 15,
   "id": "1eed9367",
   "metadata": {},
   "outputs": [],
   "source": [
    "def name(name, sentence):\n",
    "    return f\"{name} said {sentence}\""
   ]
  },
  {
   "cell_type": "code",
   "execution_count": 16,
   "id": "d59dc1ec",
   "metadata": {},
   "outputs": [
    {
     "data": {
      "text/plain": [
       "'daniel said he is a genius'"
      ]
     },
     "execution_count": 16,
     "metadata": {},
     "output_type": "execute_result"
    }
   ],
   "source": [
    "name(\"daniel\",\"he is a genius\")"
   ]
  },
  {
   "cell_type": "code",
   "execution_count": 38,
   "id": "2b735140",
   "metadata": {},
   "outputs": [],
   "source": [
    "def number(no_of_order):\n",
    "    if no_of_order==1:\n",
    "        return 10000\n",
    "    else:\n",
    "        return round((no_of_order)*2.95+10000,1)"
   ]
  },
  {
   "cell_type": "code",
   "execution_count": 39,
   "id": "f87b7a68",
   "metadata": {},
   "outputs": [
    {
     "data": {
      "text/plain": [
       "10005.9"
      ]
     },
     "execution_count": 39,
     "metadata": {},
     "output_type": "execute_result"
    }
   ],
   "source": [
    "number(2)"
   ]
  },
  {
   "cell_type": "code",
   "execution_count": 40,
   "id": "5e2f2d78",
   "metadata": {},
   "outputs": [],
   "source": [
    "z=[5,5,6,9,8]"
   ]
  },
  {
   "cell_type": "code",
   "execution_count": 41,
   "id": "d76ade33",
   "metadata": {},
   "outputs": [],
   "source": [
    "z.append(100)"
   ]
  },
  {
   "cell_type": "code",
   "execution_count": 42,
   "id": "151f7cee",
   "metadata": {},
   "outputs": [],
   "source": [
    "z.insert(0,100)"
   ]
  },
  {
   "cell_type": "code",
   "execution_count": 7,
   "id": "35a49e94",
   "metadata": {},
   "outputs": [],
   "source": [
    "import random\n",
    "def acc_number(starchart):\n",
    "    acc_number=starchart\n",
    "    for i in range(7):\n",
    "        d=random.randint(0,9)\n",
    "        acc_number=acc_number+str(d)\n",
    "    return acc_number"
   ]
  },
  {
   "cell_type": "code",
   "execution_count": 9,
   "id": "66847a26",
   "metadata": {},
   "outputs": [
    {
     "data": {
      "text/plain": [
       "'2206491557'"
      ]
     },
     "execution_count": 9,
     "metadata": {},
     "output_type": "execute_result"
    }
   ],
   "source": [
    "acc_number(\"220\")"
   ]
  },
  {
   "cell_type": "code",
   "execution_count": 11,
   "id": "f901c2b2",
   "metadata": {},
   "outputs": [],
   "source": [
    "def perfect_number(n):\n",
    "    sum_of_factors=0\n",
    "    for i in (1,n):\n",
    "        if n%i==0:\n",
    "            sum_of_factors=sum_of_factors+i\n",
    "    print(sum_of_factors)\n",
    "    "
   ]
  },
  {
   "cell_type": "code",
   "execution_count": 12,
   "id": "9e7806a3",
   "metadata": {},
   "outputs": [
    {
     "name": "stdout",
     "output_type": "stream",
     "text": [
      "7\n"
     ]
    }
   ],
   "source": [
    "perfect_number(6)"
   ]
  },
  {
   "cell_type": "code",
   "execution_count": 5,
   "id": "b0c02022",
   "metadata": {},
   "outputs": [],
   "source": [
    "import random\n",
    "def acc_number(starchar):\n",
    "    acc_number=starchar\n",
    "    for i in range(7):\n",
    "        d=random.randint(0,9)\n",
    "        acc_number +=str(d)\n",
    "    print(acc_number)"
   ]
  },
  {
   "cell_type": "code",
   "execution_count": 6,
   "id": "26dc0d20",
   "metadata": {},
   "outputs": [
    {
     "name": "stdout",
     "output_type": "stream",
     "text": [
      "2200819602\n"
     ]
    }
   ],
   "source": [
    "acc_number(\"220\")"
   ]
  }
 ],
 "metadata": {
  "kernelspec": {
   "display_name": "Python 3 (ipykernel)",
   "language": "python",
   "name": "python3"
  },
  "language_info": {
   "codemirror_mode": {
    "name": "ipython",
    "version": 3
   },
   "file_extension": ".py",
   "mimetype": "text/x-python",
   "name": "python",
   "nbconvert_exporter": "python",
   "pygments_lexer": "ipython3",
   "version": "3.9.7"
  }
 },
 "nbformat": 4,
 "nbformat_minor": 5
}
