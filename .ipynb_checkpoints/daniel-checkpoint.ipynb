{
 "cells": [
  {
   "cell_type": "markdown",
   "id": "31f481c7",
   "metadata": {},
   "source": [
    "# file saving"
   ]
  },
  {
   "cell_type": "code",
   "execution_count": null,
   "id": "08779ae6",
   "metadata": {},
   "outputs": [],
   "source": [
    "create a file: write\n",
    "modify a file : append\n",
    "read from a file:read\n",
    "    "
   ]
  },
  {
   "cell_type": "code",
   "execution_count": 2,
   "id": "f8e01107",
   "metadata": {},
   "outputs": [
    {
     "data": {
      "text/plain": [
       "<_io.TextIOWrapper name='file1.text' mode='w' encoding='cp1252'>"
      ]
     },
     "execution_count": 2,
     "metadata": {},
     "output_type": "execute_result"
    }
   ],
   "source": [
    "open(\"file1.text\",mode=\"w\")"
   ]
  },
  {
   "cell_type": "code",
   "execution_count": 4,
   "id": "4e5819bc",
   "metadata": {},
   "outputs": [],
   "source": [
    "f=open(\"file1.text\",mode=\"w\")\n",
    "f.write(\"this is the first comment\")\n",
    "f.close()"
   ]
  },
  {
   "cell_type": "code",
   "execution_count": 5,
   "id": "a7056cfb",
   "metadata": {},
   "outputs": [],
   "source": [
    "#if u want to add for the first time, you will use write, if you want write to nthe existing file you will use app\n",
    "f=open(\"file1.text\",mode=\"a\")\n",
    "f.write(\"\\nthis is the second comment\")\n",
    "f.close()"
   ]
  },
  {
   "cell_type": "code",
   "execution_count": 6,
   "id": "15df2676",
   "metadata": {},
   "outputs": [
    {
     "name": "stdout",
     "output_type": "stream",
     "text": [
      "this is the first comment\n",
      "this is the second comment\n"
     ]
    }
   ],
   "source": [
    "f=open(\"file1.text\",mode=\"r\")\n",
    "content=f.read()\n",
    "f.close()\n",
    "print(content)"
   ]
  },
  {
   "cell_type": "markdown",
   "id": "21671311",
   "metadata": {},
   "source": [
    "# exception handling"
   ]
  },
  {
   "cell_type": "code",
   "execution_count": 9,
   "id": "27c4a28c",
   "metadata": {},
   "outputs": [
    {
     "name": "stdout",
     "output_type": "stream",
     "text": [
      "enter a number: 6\n",
      "enter a second number: 3\n",
      "the value of p is 2.0\n"
     ]
    }
   ],
   "source": [
    "a=int(input(\"enter a number: \"))\n",
    "b=int(input(\"enter a second number: \"))\n",
    "p=a/b\n",
    "print(f\"the value of p is {round(p,2)}\")\n"
   ]
  },
  {
   "cell_type": "code",
   "execution_count": 10,
   "id": "58b4908e",
   "metadata": {},
   "outputs": [
    {
     "name": "stdout",
     "output_type": "stream",
     "text": [
      "enter a number: 6\n",
      "enter a second number: 0\n",
      "ooops! something went wrong\n"
     ]
    }
   ],
   "source": [
    "try:\n",
    "    a=int(input(\"enter a number: \"))\n",
    "    b=int(input(\"enter a second number: \"))\n",
    "    p=a/b\n",
    "    print(f\"the value of p is {round(p,2)}\")\n",
    "except:\n",
    "    print(\"ooops! something went wrong\")"
   ]
  },
  {
   "cell_type": "code",
   "execution_count": 12,
   "id": "bfb8a4c4",
   "metadata": {},
   "outputs": [
    {
     "name": "stdout",
     "output_type": "stream",
     "text": [
      "enter a number: 6\n",
      "enter a second number: 0\n",
      "can not divide by zero\n"
     ]
    }
   ],
   "source": [
    "try:\n",
    "    a=int(input(\"enter a number: \"))\n",
    "    b=int(input(\"enter a second number: \"))\n",
    "    p=a/b\n",
    "    print(f\"the value of p is {round(p,2)}\")\n",
    "except ZeroDivisionError:\n",
    "    print(\"can not divide by zero\")\n",
    "except ValueError:\n",
    "    print(\"input must be an interger\")"
   ]
  },
  {
   "cell_type": "code",
   "execution_count": 13,
   "id": "3c2da228",
   "metadata": {},
   "outputs": [
    {
     "name": "stdout",
     "output_type": "stream",
     "text": [
      "enter a number: 12.8\n",
      "input must be an interger\n"
     ]
    }
   ],
   "source": [
    "try:\n",
    "    a=int(input(\"enter a number: \"))\n",
    "    b=int(input(\"enter a second number: \"))\n",
    "    p=a/b\n",
    "    print(f\"the value of p is {round(p,2)}\")\n",
    "except ZeroDivisionError:\n",
    "    print(\"can not divide by zero\")\n",
    "except ValueError:\n",
    "    print(\"input must be an interger\")\n",
    "except:\n",
    "    (\"you did something wrong!\")"
   ]
  },
  {
   "cell_type": "code",
   "execution_count": 14,
   "id": "5dfe1869",
   "metadata": {},
   "outputs": [
    {
     "data": {
      "text/plain": [
       "10"
      ]
     },
     "execution_count": 14,
     "metadata": {},
     "output_type": "execute_result"
    }
   ],
   "source": [
    "5+5\n"
   ]
  },
  {
   "cell_type": "code",
   "execution_count": null,
   "id": "00bd42c2",
   "metadata": {},
   "outputs": [],
   "source": []
  }
 ],
 "metadata": {
  "kernelspec": {
   "display_name": "Python 3 (ipykernel)",
   "language": "python",
   "name": "python3"
  },
  "language_info": {
   "codemirror_mode": {
    "name": "ipython",
    "version": 3
   },
   "file_extension": ".py",
   "mimetype": "text/x-python",
   "name": "python",
   "nbconvert_exporter": "python",
   "pygments_lexer": "ipython3",
   "version": "3.9.7"
  }
 },
 "nbformat": 4,
 "nbformat_minor": 5
}
